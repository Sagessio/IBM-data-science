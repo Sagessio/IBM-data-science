{
 "cells": [
  {
   "cell_type": "markdown",
   "id": "71fb9286-7852-40c4-a926-ee915f4cbf5c",
   "metadata": {},
   "source": [
    "# Data Science Tools and Ecosystem\n",
    "\n",
    "<font color=brown> In this notebook, Data Science Tools and Ecosystem are summarized.</font>\n",
    "\n",
    "The following notebook demonstrates various aspects of the learnings from the 2nd course of IBM Data Science specialisation - 'Tools for Data Science'"
   ]
  },
  {
   "cell_type": "markdown",
   "id": "207961be-833e-437d-9816-a825bb4c469b",
   "metadata": {},
   "source": [
    "## Data Science languages\n",
    "\n",
    "### Some of the popular languages that Data Scientists use are:"
   ]
  },
  {
   "cell_type": "markdown",
   "id": "bf2d9cf6-8d6f-4ade-bd2e-3c074ac9f6db",
   "metadata": {
    "tags": []
   },
   "source": [
    "* __General-purpose programming languages__:\n",
    "    * __Python__: The most popular language in data science due to its simplicity, vast libraries, and vibrant community. Great for scripting, data analysis, and model building.\n",
    "    * __R__: Widely used for statistical analysis and data visualization. R also has strong graphical and modeling capabilities.\n",
    "    * __SQL__: Essential for querying and accessing data stored in relational databases.\n",
    "* __Specialized data science languages__:\n",
    "    * __Julia__: Emerging language gaining traction for scientific computing and machine learning. Offers high performance and efficiency.\n",
    "    * __Scala__: Statically typed language often used for large-scale data processing and distributed computing.\n",
    "* __Additional languages__:\n",
    "    * __Java__: Can be used for building scalable data pipelines and complex algorithms.\n",
    "    * __C/C++__: Offer ultimate control and efficiency but require advanced programming skills."
   ]
  },
  {
   "cell_type": "markdown",
   "id": "140f07f4-6065-48a6-a9fb-9d15ff27926e",
   "metadata": {},
   "source": [
    "## Data Science libraries"
   ]
  },
  {
   "cell_type": "markdown",
   "id": "66c60cfd-5b4f-4b4e-b34f-20d19216100a",
   "metadata": {},
   "source": [
    "There are 4 types of libraries in Python\n",
    "\n",
    "<font color=dark blue>\n",
    "    * Scientific computing libraries <br>\n",
    "    * data visualisation libraries <br>\n",
    "    * high level ML and DL libraries <br>\n",
    "    * Deep Learning libraries in Python </font> <br>\n",
    "    <br>\n",
    "    \n",
    "\n",
    "__Scientific computing libraries__  --> Pandas, NumPy <br>\n",
    "__Data visualisation libraries__ --> Matplotlib, Seaborn <br>\n",
    "__ML & DL libraries__ --> Scikit-Learn, PyTorch, Tensorflow, Keras for DL NN models"
   ]
  },
  {
   "cell_type": "markdown",
   "id": "5455d6ba-0f17-4437-a10e-7d303a664b36",
   "metadata": {},
   "source": [
    "## Data Science tools"
   ]
  },
  {
   "cell_type": "markdown",
   "id": "2430a282-49af-4e93-a946-44cfe25fea34",
   "metadata": {},
   "source": [
    "| Category | Open_Sourced_tools | Commercial_tools\n",
    "| --- | --- | --- |\n",
    "|Data Management | MySQL, Postres, Cassandra, Elasticsearch <br>, Ceph, CouchDB, MongoDB, Hadoop | Oracle db, SQL Server, IBM DB2 \n",
    "| Operating system tools/Development tools | Jupyterlab, RStudio, MS Visual Studio <br> PyCharm, Spyder, Anaconda Navigator | SPSS, SAS, IBM Watson Studio \n",
    "| Data integration & Transformation tools | Spark SQL, Kubeflow, Airflow, Apache NiFi, Apache Kfka | nformatica, AbInitio, SPSS, infosphere datastage from IBM, talend\n",
    "| Data Visualisation | PixieDust, Apache Hue, Kibana, Superset | Tableau, MS power BI, Qlik, IBM cognoscenti analytics, IBM Watson studio\n",
    "| Model Deployment tools | K8s, M-Leap, TF Lite, TF Serving, TF.js, PredictionIO, Seldon, Openshift | SPSS collaboration & deployment services (SPSS suite) -\n",
    "| Model monitoring and assessment tools | Ai Explanability 360, Prometheus, AI Fairness 360, ModelDB\n",
    "| Data asset management and governance | Collibra , Informatica, IBM Infosphere data governance, H20.ai"
   ]
  },
  {
   "cell_type": "markdown",
   "id": "07893da2-6599-4f9e-b0af-d8c284e977f7",
   "metadata": {
    "tags": []
   },
   "source": [
    "## Arithmetic expression examples"
   ]
  },
  {
   "cell_type": "code",
   "execution_count": 2,
   "id": "7de17b70-ac0f-4556-b01a-44f09ec4ea1d",
   "metadata": {
    "tags": []
   },
   "outputs": [
    {
     "name": "stdout",
     "output_type": "stream",
     "text": [
      "6\n"
     ]
    }
   ],
   "source": [
    "x=2\n",
    "y=4\n",
    "z = x+y\n",
    "print(z)"
   ]
  },
  {
   "cell_type": "markdown",
   "id": "066ffd6d-ae01-4a1e-9368-d4c28b85138b",
   "metadata": {},
   "source": [
    "## Multiplication & Addition"
   ]
  },
  {
   "cell_type": "code",
   "execution_count": 11,
   "id": "68cf5004-2511-4c05-b021-08915bb4c62e",
   "metadata": {
    "tags": []
   },
   "outputs": [
    {
     "name": "stdout",
     "output_type": "stream",
     "text": [
      "Value of adding x and y = 15\n",
      "Value of multiplying x and y = 50\n"
     ]
    }
   ],
   "source": [
    "x=5\n",
    "y=10\n",
    "\n",
    "z = x+y\n",
    "m = x*y\n",
    "\n",
    "print(\"Value of adding x and y =\", z)\n",
    "print(\"Value of multiplying x and y =\", m)"
   ]
  },
  {
   "cell_type": "markdown",
   "id": "892c37e5-cdce-4af1-838b-ce90707e2dab",
   "metadata": {},
   "source": [
    "## Minutes to hours"
   ]
  },
  {
   "cell_type": "code",
   "execution_count": 12,
   "id": "ad8dab0f-da6d-4d3d-8988-00446d7f2a23",
   "metadata": {
    "tags": []
   },
   "outputs": [
    {
     "name": "stdin",
     "output_type": "stream",
     "text": [
      "Enter a value to convert to hours:  30\n"
     ]
    },
    {
     "name": "stdout",
     "output_type": "stream",
     "text": [
      "30 is equivalent to 0.5 hours.\n"
     ]
    }
   ],
   "source": [
    "# Get input from the user\n",
    "value = input(\"Enter a value to convert to hours: \")\n",
    "\n",
    "# Convert the input to a number\n",
    "value_number = float(value)\n",
    "\n",
    "# Convert the value to hours\n",
    "hours = value_number / 60\n",
    "\n",
    "# Print the result\n",
    "print(value, \"is equivalent to\", hours, \"hours.\")\n"
   ]
  },
  {
   "cell_type": "markdown",
   "id": "430d9284-a7e6-4b7c-9c8d-2995d33a2a72",
   "metadata": {},
   "source": [
    "## Objectives of the Course\n",
    "\n",
    "The main objectives of the course is to introduce the tools used in data science. It covers:\n",
    "\n",
    "1. Categories of Data Science tools (Open sources & Commercial)\n",
    "2. Languages in Data Science\n",
    "3. Libraries, APIs, Datasets & Models\n",
    "4. Jupyter notebooks, IDEs & RStudio\n",
    "5. Visualisation libraries\n",
    "6. GitHub, Git repositories "
   ]
  },
  {
   "cell_type": "markdown",
   "id": "20f90427-10f0-46c6-b9a3-0bcc73c4231c",
   "metadata": {},
   "source": [
    "## Author of the Notebook"
   ]
  },
  {
   "cell_type": "markdown",
   "id": "bfe45ce6-4fc0-4f01-8e80-e9fb6a38fa6b",
   "metadata": {
    "tags": []
   },
   "source": [
    "<font color=blue> Nikhilananta Srikrishna Challa (Nikhil) </font>"
   ]
  },
  {
   "cell_type": "code",
   "execution_count": null,
   "id": "6195afb6-4428-46ca-b96d-b565d8b9f7bd",
   "metadata": {},
   "outputs": [],
   "source": []
  }
 ],
 "metadata": {
  "kernelspec": {
   "display_name": "Python 3 (ipykernel)",
   "language": "python",
   "name": "python3"
  },
  "language_info": {
   "codemirror_mode": {
    "name": "ipython",
    "version": 3
   },
   "file_extension": ".py",
   "mimetype": "text/x-python",
   "name": "python",
   "nbconvert_exporter": "python",
   "pygments_lexer": "ipython3",
   "version": "3.11.5"
  }
 },
 "nbformat": 4,
 "nbformat_minor": 5
}
