{
 "cells": [
  {
   "cell_type": "markdown",
   "id": "9dcff580-f118-413f-8e33-b07c0e376fde",
   "metadata": {},
   "source": [
    "# Data Science Tools and Ecosystem"
   ]
  },
  {
   "cell_type": "markdown",
   "id": "ddac8a47-801c-49d6-b1aa-61c4b85b568c",
   "metadata": {},
   "source": [
    "### In this notebook, Data Science Tools and Ecosystem are summarized."
   ]
  },
  {
   "cell_type": "markdown",
   "id": "19ea18bd-54b4-4cfc-ad0d-1282f39635d0",
   "metadata": {
    "tags": []
   },
   "source": [
    "#### Some of the popular languages that Data Scientists use are:\n",
    "\n",
    "1. Python\n",
    "\n",
    "2. R\n",
    "\n",
    "3. SQL\n",
    "\n",
    "4. Scala\n",
    "\n",
    "5. Java\n",
    "\n",
    "6. C++\n",
    "\n",
    "7. Julia\n",
    "\n",
    "8. JavaScript\n",
    "\n",
    "9. PHP\n",
    "\n",
    "10. Go\n",
    "\n",
    "11. Ruby\n",
    "\n",
    "12. Visual Basic"
   ]
  },
  {
   "cell_type": "markdown",
   "id": "5b67cd3c-7eef-4e94-99e5-35e106a92924",
   "metadata": {},
   "source": [
    "#### Some of the commonly used libraries used by Data Scientists include:\n",
    "\n",
    "1. Pandas\n",
    "\n",
    "2. Numpy\n",
    "\n",
    "3. Matplotlib\n",
    "\n",
    "4. Seaborn\n",
    "\n",
    "5. Scikit-learn\n",
    "\n",
    "6. Keras\n",
    "\n",
    "7. TensorFlow\n",
    "\n",
    "8. PyTorch\n",
    "\n",
    "9. Apache Spark\n",
    "\n",
    "10. Vegas\n",
    "\n",
    "11. Big DL\n",
    "\n",
    "12. Ggplot2"
   ]
  },
  {
   "cell_type": "markdown",
   "id": "4fe6d6b7-b9f0-4c75-9767-c68c001f239a",
   "metadata": {},
   "source": [
    "#### Data Science tools\n",
    "\n",
    "| Category | Open_Sourced_tools | Commercial_tools\n",
    "| --- | --- | --- |\n",
    "|Data Management | MySQL, Postres, Cassandra, Elasticsearch <br>, Ceph, CouchDB, MongoDB, Hadoop | Oracle db, SQL Server, IBM DB2 \n",
    "| Operating system tools/Development tools | Jupyterlab, RStudio, MS Visual Studio <br> PyCharm, Spyder, Anaconda Navigator | SPSS, SAS, IBM Watson Studio \n",
    "| Data integration & Transformation tools | Spark SQL, Kubeflow, Airflow, Apache NiFi, Apache Kfka | nformatica, AbInitio, SPSS, infosphere datastage from IBM, talend\n",
    "| Data Visualisation | PixieDust, Apache Hue, Kibana, Superset | Tableau, MS power BI, Qlik, IBM cognoscenti analytics, IBM Watson studio\n",
    "| Model Deployment tools | K8s, M-Leap, TF Lite, TF Serving, TF.js, PredictionIO, Seldon, Openshift | SPSS collaboration & deployment services (SPSS suite) -\n",
    "| Model monitoring and assessment tools | Ai Explanability 360, Prometheus, AI Fairness 360, ModelDB\n",
    "| Data asset management and governance | Collibra , Informatica, IBM Infosphere data governance, H20.ai"
   ]
  },
  {
   "cell_type": "markdown",
   "id": "d95af1c1-cac7-4640-a3da-20bc43b85dea",
   "metadata": {},
   "source": [
    "### Below are a few examples of evaluating arithmetic expressions in Python"
   ]
  },
  {
   "cell_type": "code",
   "execution_count": 2,
   "id": "4921c3e8-a196-4729-826e-ac41e3ee39d9",
   "metadata": {
    "tags": []
   },
   "outputs": [
    {
     "data": {
      "text/plain": [
       "17"
      ]
     },
     "execution_count": 2,
     "metadata": {},
     "output_type": "execute_result"
    }
   ],
   "source": [
    "#This a simple arithmetic expression to mutiply then add integers\n",
    "(3*4)+5"
   ]
  },
  {
   "cell_type": "code",
   "execution_count": 3,
   "id": "ec24788d-5db6-4644-be9f-9b94c548a55c",
   "metadata": {
    "tags": []
   },
   "outputs": [
    {
     "data": {
      "text/plain": [
       "3"
      ]
     },
     "execution_count": 3,
     "metadata": {},
     "output_type": "execute_result"
    }
   ],
   "source": [
    "#This will convert 200 minutes to hours by diving by 60\n",
    "200//60"
   ]
  },
  {
   "cell_type": "markdown",
   "id": "4e3d44ce-ecef-4849-b258-10f0a489000f",
   "metadata": {},
   "source": [
    "__Objectives__:\n",
    "\n",
    "- Create markdown cells\n",
    "- List Data science tools\n",
    "- Add ordered and unordered lists to the notebook\n",
    "- Create arithmetic expressions\n",
    "- List popular data science languages\n",
    "- List popular data science libraries"
   ]
  },
  {
   "cell_type": "markdown",
   "id": "95b018bc-1d88-4d23-b143-96899d579f0c",
   "metadata": {},
   "source": [
    "## Author\n",
    "\n",
    "Nikhil Challa"
   ]
  },
  {
   "cell_type": "code",
   "execution_count": null,
   "id": "8f5a189e-ec5e-4be6-a762-7c31df7db079",
   "metadata": {},
   "outputs": [],
   "source": []
  }
 ],
 "metadata": {
  "kernelspec": {
   "display_name": "Python 3 (ipykernel)",
   "language": "python",
   "name": "python3"
  },
  "language_info": {
   "codemirror_mode": {
    "name": "ipython",
    "version": 3
   },
   "file_extension": ".py",
   "mimetype": "text/x-python",
   "name": "python",
   "nbconvert_exporter": "python",
   "pygments_lexer": "ipython3",
   "version": "3.11.5"
  }
 },
 "nbformat": 4,
 "nbformat_minor": 5
}
